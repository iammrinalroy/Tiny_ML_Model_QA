{
 "cells": [
  {
   "cell_type": "code",
   "execution_count": 15,
   "id": "22eb7959-03fa-49c9-9595-ea9fa9f6280c",
   "metadata": {},
   "outputs": [],
   "source": [
    "training_data = [\n",
    "    (\"What is your return policy?\", \"Our return policy lasts 30 days.\"),\n",
    "    (\"How can I track my order?\", \"You can track your order by logging into your account.\"),\n",
    "    (\"Do you offer international shipping?\", \"Yes, we offer international shipping.\"),\n",
    "    (\"Who is the prime minister of india?\",\"Narendra Modi is the Prime Minister of India as per 2024\"),\n",
    "    (\"In which book and chapters of Mahabharata did Bhagavad Gita appear ?\",\"Chapters 25 -42 in the 6th book of Mahabharata\"),\n",
    "    (\"What payment methods do you accept?\", \"We accept credit cards (Visa, MasterCard, American Express) and PayPal.\"),\n",
    "    (\"How long does shipping take?\", \"Shipping usually takes 3-5 business days within the US.\"),\n",
    "    (\"Can I return my order if I'm not satisfied?\", \"Yes, we offer a 30-day return policy for unused items.\"),\n",
    "    (\"Do you provide customer support?\", \"Yes, our customer support team is available 24/7.\"),\n",
    "    (\"Are your products eco-friendly?\", \"Yes, all our products are made from sustainable materials.\"),\n",
    "    (\"How do I change my account password?\", \"You can change your password in the account settings.\"),\n",
    "    (\"What is your refund policy?\", \"We provide refunds for returned items within 15 days of purchase.\"),\n",
    "    (\"Do you offer discounts for bulk orders?\", \"Yes, we offer discounts for bulk purchases. Please contact our sales team for details.\"),\n",
    "    (\"Where are your products manufactured?\", \"Our products are manufactured locally in the United States.\"),\n",
    "    (\"How can I contact your support team?\", \"You can contact our support team via email at support@example.com or by phone at +1-123-456-7890.\"),\n",
    "    (\"What are the shipping costs?\", \"Shipping costs vary based on location and order size. You can view shipping costs at checkout.\"),\n",
    "    (\"Is there a warranty on your products?\", \"Yes, we offer a 1-year warranty on all our products.\"),\n",
    "    (\"Can I cancel my order?\", \"You can cancel your order within 24 hours of placing it. Please contact customer support for assistance.\"),\n",
    "    (\"Do you have a loyalty program?\", \"Yes, we offer a loyalty program that rewards repeat customers with discounts and special offers.\"),\n",
    "    (\"How can I check the status of my order?\", \"You can check your order status by logging into your account and viewing your order history.\"),\n",
    "    (\"What are your business hours?\", \"Our business hours are Monday to Friday, 9:00 AM to 5:00 PM EST.\"),\n",
    "    (\"Do you ship internationally?\", \"Yes, we offer international shipping to most countries. Shipping times and costs may vary.\"),\n",
    "    (\"How do I apply a coupon code?\", \"You can apply a coupon code at checkout before completing your purchase.\"),\n",
    "    (\"What do I do if my package is lost?\", \"If your package is lost, please contact our support team immediately for assistance.\"),\n",
    "    (\"Are there any restrictions on returns?\", \"Items must be in unused condition with original packaging for returns. Some items may be non-returnable.\"),\n",
    "    \n",
    "    \n",
    "    # Add more question-answer pairs as needed\n",
    "]\n"
   ]
  },
  {
   "cell_type": "code",
   "execution_count": 16,
   "id": "f3c8d6fe-42bc-42da-a873-87491ae60c77",
   "metadata": {},
   "outputs": [],
   "source": [
    "from sklearn.feature_extraction.text import CountVectorizer\n",
    "\n",
    "# Extract questions and answers\n",
    "questions, answers = zip(*training_data)\n",
    "\n",
    "# Create a CountVectorizer to convert text into a matrix of token counts\n",
    "vectorizer = CountVectorizer()\n",
    "\n",
    "# Fit the vectorizer on the questions and transform them into vectors\n",
    "X = vectorizer.fit_transform(questions)\n"
   ]
  },
  {
   "cell_type": "code",
   "execution_count": 17,
   "id": "7f9024dc-e297-4433-89c0-8bf2ae0aebc8",
   "metadata": {},
   "outputs": [
    {
     "data": {
      "text/html": [
       "<style>#sk-container-id-3 {color: black;background-color: white;}#sk-container-id-3 pre{padding: 0;}#sk-container-id-3 div.sk-toggleable {background-color: white;}#sk-container-id-3 label.sk-toggleable__label {cursor: pointer;display: block;width: 100%;margin-bottom: 0;padding: 0.3em;box-sizing: border-box;text-align: center;}#sk-container-id-3 label.sk-toggleable__label-arrow:before {content: \"▸\";float: left;margin-right: 0.25em;color: #696969;}#sk-container-id-3 label.sk-toggleable__label-arrow:hover:before {color: black;}#sk-container-id-3 div.sk-estimator:hover label.sk-toggleable__label-arrow:before {color: black;}#sk-container-id-3 div.sk-toggleable__content {max-height: 0;max-width: 0;overflow: hidden;text-align: left;background-color: #f0f8ff;}#sk-container-id-3 div.sk-toggleable__content pre {margin: 0.2em;color: black;border-radius: 0.25em;background-color: #f0f8ff;}#sk-container-id-3 input.sk-toggleable__control:checked~div.sk-toggleable__content {max-height: 200px;max-width: 100%;overflow: auto;}#sk-container-id-3 input.sk-toggleable__control:checked~label.sk-toggleable__label-arrow:before {content: \"▾\";}#sk-container-id-3 div.sk-estimator input.sk-toggleable__control:checked~label.sk-toggleable__label {background-color: #d4ebff;}#sk-container-id-3 div.sk-label input.sk-toggleable__control:checked~label.sk-toggleable__label {background-color: #d4ebff;}#sk-container-id-3 input.sk-hidden--visually {border: 0;clip: rect(1px 1px 1px 1px);clip: rect(1px, 1px, 1px, 1px);height: 1px;margin: -1px;overflow: hidden;padding: 0;position: absolute;width: 1px;}#sk-container-id-3 div.sk-estimator {font-family: monospace;background-color: #f0f8ff;border: 1px dotted black;border-radius: 0.25em;box-sizing: border-box;margin-bottom: 0.5em;}#sk-container-id-3 div.sk-estimator:hover {background-color: #d4ebff;}#sk-container-id-3 div.sk-parallel-item::after {content: \"\";width: 100%;border-bottom: 1px solid gray;flex-grow: 1;}#sk-container-id-3 div.sk-label:hover label.sk-toggleable__label {background-color: #d4ebff;}#sk-container-id-3 div.sk-serial::before {content: \"\";position: absolute;border-left: 1px solid gray;box-sizing: border-box;top: 0;bottom: 0;left: 50%;z-index: 0;}#sk-container-id-3 div.sk-serial {display: flex;flex-direction: column;align-items: center;background-color: white;padding-right: 0.2em;padding-left: 0.2em;position: relative;}#sk-container-id-3 div.sk-item {position: relative;z-index: 1;}#sk-container-id-3 div.sk-parallel {display: flex;align-items: stretch;justify-content: center;background-color: white;position: relative;}#sk-container-id-3 div.sk-item::before, #sk-container-id-3 div.sk-parallel-item::before {content: \"\";position: absolute;border-left: 1px solid gray;box-sizing: border-box;top: 0;bottom: 0;left: 50%;z-index: -1;}#sk-container-id-3 div.sk-parallel-item {display: flex;flex-direction: column;z-index: 1;position: relative;background-color: white;}#sk-container-id-3 div.sk-parallel-item:first-child::after {align-self: flex-end;width: 50%;}#sk-container-id-3 div.sk-parallel-item:last-child::after {align-self: flex-start;width: 50%;}#sk-container-id-3 div.sk-parallel-item:only-child::after {width: 0;}#sk-container-id-3 div.sk-dashed-wrapped {border: 1px dashed gray;margin: 0 0.4em 0.5em 0.4em;box-sizing: border-box;padding-bottom: 0.4em;background-color: white;}#sk-container-id-3 div.sk-label label {font-family: monospace;font-weight: bold;display: inline-block;line-height: 1.2em;}#sk-container-id-3 div.sk-label-container {text-align: center;}#sk-container-id-3 div.sk-container {/* jupyter's `normalize.less` sets `[hidden] { display: none; }` but bootstrap.min.css set `[hidden] { display: none !important; }` so we also need the `!important` here to be able to override the default hidden behavior on the sphinx rendered scikit-learn.org. See: https://github.com/scikit-learn/scikit-learn/issues/21755 */display: inline-block !important;position: relative;}#sk-container-id-3 div.sk-text-repr-fallback {display: none;}</style><div id=\"sk-container-id-3\" class=\"sk-top-container\"><div class=\"sk-text-repr-fallback\"><pre>MultinomialNB()</pre><b>In a Jupyter environment, please rerun this cell to show the HTML representation or trust the notebook. <br />On GitHub, the HTML representation is unable to render, please try loading this page with nbviewer.org.</b></div><div class=\"sk-container\" hidden><div class=\"sk-item\"><div class=\"sk-estimator sk-toggleable\"><input class=\"sk-toggleable__control sk-hidden--visually\" id=\"sk-estimator-id-3\" type=\"checkbox\" checked><label for=\"sk-estimator-id-3\" class=\"sk-toggleable__label sk-toggleable__label-arrow\">MultinomialNB</label><div class=\"sk-toggleable__content\"><pre>MultinomialNB()</pre></div></div></div></div></div>"
      ],
      "text/plain": [
       "MultinomialNB()"
      ]
     },
     "execution_count": 17,
     "metadata": {},
     "output_type": "execute_result"
    }
   ],
   "source": [
    "from sklearn.naive_bayes import MultinomialNB\n",
    "\n",
    "# Initialize the classifier\n",
    "clf = MultinomialNB()\n",
    "\n",
    "# Fit the classifier on the training data\n",
    "clf.fit(X, answers)\n"
   ]
  },
  {
   "cell_type": "code",
   "execution_count": 18,
   "id": "1c6bfac0-882e-4b93-99d0-4a777c8e5cfd",
   "metadata": {},
   "outputs": [
    {
     "data": {
      "text/plain": [
       "['qa_vectorizer.joblib']"
      ]
     },
     "execution_count": 18,
     "metadata": {},
     "output_type": "execute_result"
    }
   ],
   "source": [
    "import joblib\n",
    "\n",
    "# Save the classifier and vectorizer\n",
    "joblib.dump(clf, 'qa_classifier.joblib')\n",
    "joblib.dump(vectorizer, 'qa_vectorizer.joblib')\n"
   ]
  },
  {
   "cell_type": "code",
   "execution_count": 22,
   "id": "274b61e0-dfc9-490c-8616-f28fe46ced44",
   "metadata": {},
   "outputs": [
    {
     "name": "stdout",
     "output_type": "stream",
     "text": [
      "Question: do you guys ship internationally\n",
      "Answer: Yes, we offer international shipping to most countries. Shipping times and costs may vary.\n"
     ]
    }
   ],
   "source": [
    "# Load the classifier and vectorizer\n",
    "clf = joblib.load('qa_classifier.joblib')\n",
    "vectorizer = joblib.load('qa_vectorizer.joblib')\n",
    "\n",
    "# Example usage\n",
    "def predict_answer(question):\n",
    "    # Vectorize the input question\n",
    "    question_vec = vectorizer.transform([question])\n",
    "    \n",
    "    # Predict the answer\n",
    "    predicted_answer = clf.predict(question_vec)\n",
    "    \n",
    "    return predicted_answer[0]\n",
    "\n",
    "# Example usage\n",
    "question = \"do you guys ship internationally\"\n",
    "answer = predict_answer(question)\n",
    "print(f\"Question: {question}\\nAnswer: {answer}\")"
   ]
  },
  {
   "cell_type": "code",
   "execution_count": null,
   "id": "5088a8bb-8d05-4ffa-9c59-9766355c4d2b",
   "metadata": {},
   "outputs": [],
   "source": []
  }
 ],
 "metadata": {
  "kernelspec": {
   "display_name": "Python 3 (ipykernel)",
   "language": "python",
   "name": "python3"
  },
  "language_info": {
   "codemirror_mode": {
    "name": "ipython",
    "version": 3
   },
   "file_extension": ".py",
   "mimetype": "text/x-python",
   "name": "python",
   "nbconvert_exporter": "python",
   "pygments_lexer": "ipython3",
   "version": "3.11.7"
  }
 },
 "nbformat": 4,
 "nbformat_minor": 5
}
